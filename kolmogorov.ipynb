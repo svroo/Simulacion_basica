{
 "cells": [
  {
   "cell_type": "markdown",
   "metadata": {},
   "source": [
    "# Klmogorov-smirnov"
   ]
  },
  {
   "cell_type": "code",
   "execution_count": 1,
   "metadata": {},
   "outputs": [],
   "source": [
    "import numpy as np\n",
    "from scipy.stats import ksone"
   ]
  },
  {
   "cell_type": "code",
   "execution_count": 16,
   "metadata": {},
   "outputs": [
    {
     "name": "stdout",
     "output_type": "stream",
     "text": [
      "Se aprueba la hipotesis nula\n"
     ]
    }
   ],
   "source": [
    "\n",
    "def prueba_kolmogorov(nums:list, alpha: float)-> None:\n",
    "    n = len(nums) \n",
    "    # assert n > 0, 'La lista no debe estar vacia'    \n",
    "    nums.sort()\n",
    "    f_p = np.array([i/n for i in range(1, n+1)])\n",
    "    d_max = np.abs(f_p - np.array(nums))\n",
    "    \n",
    "    D_max = np.max(np.array(d_max))\n",
    "    \n",
    "    critical_value = ksone.interval(1-alpha, n)[1]\n",
    "    \n",
    "    if D_max < critical_value:\n",
    "        print('Se aprueba la hipotesis nula')\n",
    "    else:\n",
    "        print('No se aprueba la hipotesis nula')\n",
    "    \n",
    "prueba_kolmogorov([0.36, 0.82, 0.54, 0.39, 0.76, 0.94, 0.72, 0.65, 0.03, 0.18],0.05)"
   ]
  },
  {
   "cell_type": "markdown",
   "metadata": {},
   "source": [
    "# Prueba de poker (independencia)\n",
    "\n",
    "- Distancias\n",
    "- Poker\n",
    "- Series\n",
    "- Huecos\n",
    "\n",
    "verifica que los números no sean dependientes del anterior o de algún muestreo de datos. Se parte de dos hipotesis:\n",
    "- $h_0\\rightarrow$ Todos lo números son independientes\n",
    "- $h_1\\rightarrow$ Todos los números no son independientes.\n",
    "\n",
    "Esta prueba consiste en visualizar el número $R_i$ con 3, 4 ó 5 decimales (como si fuera una mano del juego de poker, con 5 cartas) y clasificarlo como:\n",
    "1. Todos diferentes (TD)\n",
    "2. Exactamente un par (1P)\n",
    "3. 2 pares (2P)\n",
    "4. Una tercia (T)\n",
    "5. Una tercia y un par (TP)\n",
    "6. Poker (P)\n",
    "7. Quintilla (Q)\n",
    "\n",
    "Se requieren construir tablas ue nos van a incluir los numeros decimales \n",
    "\n",
    "Poker para 3 decimales \n",
    "\n",
    "|Categoria|Propabilidad|$E_I$ $PXn$|\n",
    "|--|--|--|\n",
    "|TD|0.72|0.72|\n",
    "|P|0.26|0.26 * n|\n",
    "|T|0.01|0.01 * n|\n",
    "\n",
    "Poer para 4 decimales\n",
    "\n",
    "|categoria|Probabilidad|$E_i$|\n",
    "|--|--|--|\n",
    "|TD|0.5040|$p*n$|\n",
    "|1P|0.4320|$p*n$|\n",
    "|2P|0.0270|$p*n$|\n",
    "|T|0.0360|$p*n$|\n",
    "|P|0.0010|$p*n$|\n",
    "\n",
    "\n",
    "Pokier 5 decimales \n",
    "|Categoria|Probabilidad|$E_i$|\n",
    "|--|--|--|\n",
    "|TD|0.03024|$p*n$|\n",
    "|1P|0.5040|$p*n$|\n",
    "|2P|0.1080|$p*n$|\n",
    "|TP|0.0090|$p*n$|\n",
    "|T|0.0720|$p*n$|\n",
    "|P|0.0045|$p*n$|\n",
    "|Q|0.001|$p*n$|\n",
    "\n",
    "## Pasos\n",
    "\n",
    "1. Determinar la categoria de cada número del conjunto 'r'.\n",
    "2. Contabilizar los números $r_i$ de la misma categoria o clase para obtener la frecuencia observada.\n",
    "$$x_{0}^{2}=\\sum_{i=1}^{n} \\frac{(F_{a} -F_{E_{1}})^2}{F_{E_{1}}} < X^{2},n-1$$\n",
    "\n",
    "- $X^{2}a,6$ para números con 5 decimales.\n",
    "- $X^2 a,4$ para numeros con 4 decimales\n",
    "- $X^2 a,2$ para números con 3 decimales\n",
    "\n",
    "\n",
    "## Ejercicio:\n",
    "\n",
    "Nivel de aceptación = 5%\n",
    "30 números (0,1) con 5 decimales:\n",
    "0.06141, 0.72484, 0.94107, 0.56766, 0.14411, 0.84648, 0.81792, 0.48999, 0.18590, 0.06060, 0.11223, 0.64794, 0.52953, 0.50502, 0.30444, 0.70688, 0.25357, 0.31555, 0.04127, 0.67347, 0.28103, 0.99367, 0.44598, 0.73997, 0.27813, 0.62182, 0.82578, 0.85923, 0.51483, 0.09099"
   ]
  },
  {
   "cell_type": "code",
   "execution_count": 1,
   "metadata": {},
   "outputs": [
    {
     "name": "stdout",
     "output_type": "stream",
     "text": [
      "El valor p es 0.01831563888873418\n"
     ]
    }
   ],
   "source": [
    "import collections\n",
    "import math\n",
    "\n",
    "def decimal_to_digits(decimal, m):\n",
    "    # Convertir el decimal en una secuencia de dígitos\n",
    "    digits = str(decimal).replace('.', '')[:m]\n",
    "    return digits\n",
    "\n",
    "def poker_test(sequence, m):\n",
    "    # Convertir la secuencia en subsecuencias de longitud m\n",
    "    subsequences = [sequence[i:i+m] for i in range(0, len(sequence), m)]\n",
    "    \n",
    "    # Contar la frecuencia de cada subsecuencia\n",
    "    frequency = collections.Counter(subsequences)\n",
    "    \n",
    "    # Calcular el estadístico de prueba\n",
    "    n = len(subsequences)\n",
    "    test_statistic = (2**m / n) * sum([count**2 for count in frequency.values()]) - n\n",
    "    \n",
    "    # Calcular el valor p\n",
    "    p_value = math.exp(-2 * test_statistic)\n",
    "    \n",
    "    return p_value\n",
    "\n",
    "# Ejemplo de uso\n",
    "decimals = [0.06141, 0.72484, 0.94107, 0.56766, 0.14411, 0.84648, 0.81792, 0.48999, 0.18590, 0.06060, 0.11223, 0.64794, 0.52953, 0.50502, 0.30444, 0.70688, 0.25357, 0.31555, 0.04127, 0.67347, 0.28103, 0.99367, 0.44598, 0.73997, 0.27813, 0.62182, 0.82578, 0.85923, 0.51483, 0.09099]\n",
    "m = 5\n",
    "\n",
    "# Convertir los decimales en una secuencia de dígitos\n",
    "sequence = ''.join([decimal_to_digits(decimal, m) for decimal in decimals])\n",
    "\n",
    "# Aplicar la prueba de póker a la secuencia\n",
    "p_value = poker_test(sequence, m)\n",
    "\n",
    "print(f'El valor p es {p_value}')\n"
   ]
  }
 ],
 "metadata": {
  "kernelspec": {
   "display_name": "PNLenv",
   "language": "python",
   "name": "python3"
  },
  "language_info": {
   "codemirror_mode": {
    "name": "ipython",
    "version": 3
   },
   "file_extension": ".py",
   "mimetype": "text/x-python",
   "name": "python",
   "nbconvert_exporter": "python",
   "pygments_lexer": "ipython3",
   "version": "3.10.11"
  },
  "orig_nbformat": 4
 },
 "nbformat": 4,
 "nbformat_minor": 2
}
