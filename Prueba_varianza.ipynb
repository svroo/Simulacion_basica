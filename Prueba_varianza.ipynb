{
 "cells": [
  {
   "cell_type": "markdown",
   "metadata": {},
   "source": [
    "# Propiedades de los numeros pseudoaleatorios\n",
    "\n",
    "- Media $(\\mu) = \\frac{1}{2}$\n",
    "- Varianza $(\\sigma) = \\frac{1}{12}$\n",
    "- Independencia\n",
    "- Distribución uniforme (0,1)\n",
    "    - $H_0 = r_i \\approx (0,1)$\n",
    "    - $H_1 = r_i no son uniformes$\n",
    "\n",
    "\n",
    "## Prueba de varianza"
   ]
  },
  {
   "cell_type": "code",
   "execution_count": 1,
   "metadata": {},
   "outputs": [],
   "source": [
    "def open_numbers(ubi = './ejemplo/numeros.txt'):\n",
    "    nums = list()\n",
    "    \n",
    "    with open(ubi, mode='r') as f:\n",
    "        for line in f.readlines():\n",
    "            nums.append(float(line))\n",
    "    \n",
    "    return nums"
   ]
  },
  {
   "cell_type": "code",
   "execution_count": 96,
   "metadata": {},
   "outputs": [],
   "source": [
    "import numpy as np\n",
    "from scipy.stats import chi2\n",
    "\n",
    "def prueba_varianza(nums: list, alpha : float):\n",
    "    nums = np.array(nums)\n",
    "    n = nums.shape[0]\n",
    "    \n",
    "    var = np.var(nums)\n",
    "    \n",
    "    divisor = (12 * (n -1))\n",
    "    # print('li', chi2.ppf(1- alpha/ 2, n-1))\n",
    "    # print('ls', chi2.ppf((alpha / 2), n-1))\n",
    "        \n",
    "    li = chi2.ppf(1-alpha / 2, n-1) / divisor\n",
    "    ls = chi2.ppf((alpha / 2), n-1) / divisor\n",
    "    \n",
    "    if ls < var < li:\n",
    "        print('Se aprueba H0')\n",
    "    else:\n",
    "        print('Se rechaza H0')\n",
    "    # print(li, ls)\n",
    "    \n",
    "    "
   ]
  },
  {
   "cell_type": "code",
   "execution_count": 97,
   "metadata": {},
   "outputs": [
    {
     "name": "stdout",
     "output_type": "stream",
     "text": [
      "Se aprueba H0\n"
     ]
    }
   ],
   "source": [
    "# def prueba_varianza(nums:list, valor_chi : float):\n",
    "prueba_varianza(nums= open_numbers(), alpha=0.05)"
   ]
  },
  {
   "cell_type": "code",
   "execution_count": 132,
   "metadata": {},
   "outputs": [],
   "source": [
    "def prueba_varianza(alpha_value : float, intervalos : int, nums=open_numbers()):\n",
    "    intervalo = np.round((max(nums) - min(nums)) / intervalos, 1)\n",
    "    inicio = 0.0\n",
    "    fin = intervalo\n",
    "    aux = dict()\n",
    "    \n",
    "    while True:\n",
    "        frec = 0\n",
    "        for n in nums:\n",
    "            if inicio < n < fin:\n",
    "                frec +=1\n",
    "        aux[(inicio, fin)] = frec\n",
    "        \n",
    "        a = fin\n",
    "        inicio = np.round(fin, 1)\n",
    "        fin = np.round(a + intervalo, 1)\n",
    "        \n",
    "        if fin > 1.0:\n",
    "            break  \n",
    "        \n",
    "    fe = len(nums) / intervalos\n",
    "    for i,j in aux.items():\n",
    "        print(i,j)\n",
    "    c = 0\n",
    "    for value in aux.values():\n",
    "        c += (((fe - value)**2) / fe)\n",
    "    \n",
    "    chi_value = chi2.ppf(1-alpha_value, intervalos-1)\n",
    "    \n",
    "    if c < chi_value:\n",
    "        print('Se aprueba H0')\n",
    "    else:\n",
    "        print('Se rechaza H0')\n",
    "    "
   ]
  },
  {
   "cell_type": "code",
   "execution_count": 137,
   "metadata": {},
   "outputs": [
    {
     "name": "stdout",
     "output_type": "stream",
     "text": [
      "(0.0, 0.2) 6\n",
      "(0.2, 0.4) 7\n",
      "(0.4, 0.6) 5\n",
      "(0.6, 0.8) 5\n",
      "(0.8, 1.0) 7\n",
      "Se aprueba H0\n"
     ]
    }
   ],
   "source": [
    "prueba_varianza(0.05, 5)"
   ]
  },
  {
   "cell_type": "code",
   "execution_count": 116,
   "metadata": {},
   "outputs": [
    {
     "data": {
      "text/plain": [
       "9.487729036781154"
      ]
     },
     "execution_count": 116,
     "metadata": {},
     "output_type": "execute_result"
    }
   ],
   "source": []
  },
  {
   "cell_type": "code",
   "execution_count": 112,
   "metadata": {},
   "outputs": [],
   "source": []
  },
  {
   "cell_type": "code",
   "execution_count": 114,
   "metadata": {},
   "outputs": [
    {
     "data": {
      "text/plain": [
       "0.6666666666666666"
      ]
     },
     "execution_count": 114,
     "metadata": {},
     "output_type": "execute_result"
    }
   ],
   "source": []
  }
 ],
 "metadata": {
  "kernelspec": {
   "display_name": "timeseries",
   "language": "python",
   "name": "python3"
  },
  "language_info": {
   "codemirror_mode": {
    "name": "ipython",
    "version": 3
   },
   "file_extension": ".py",
   "mimetype": "text/x-python",
   "name": "python",
   "nbconvert_exporter": "python",
   "pygments_lexer": "ipython3",
   "version": "3.10.11"
  },
  "orig_nbformat": 4
 },
 "nbformat": 4,
 "nbformat_minor": 2
}
