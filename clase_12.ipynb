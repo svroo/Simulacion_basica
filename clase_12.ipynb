{
 "cells": [
  {
   "cell_type": "markdown",
   "metadata": {},
   "source": [
    "<div align='right'><h3>clase 12 de septiembre del 2023</h3></div>\n",
    "\n",
    "¿Qué es un número aleatorio?\n",
    "\n",
    "Los números aleatorios son números que se obtienen al azar, es decir, que todo número tenga la misma probabilidad de ser elegido y que la elección de uno no dependa de la elección del otro."
   ]
  },
  {
   "cell_type": "code",
   "execution_count": 43,
   "metadata": {},
   "outputs": [],
   "source": [
    "def random_number(n=5):\n",
    "    if n > 0:\n",
    "        nums = list()\n",
    "        for i in range(1, n + 1):\n",
    "            nums.append((((n**i) // i) + (n - i)) // i)\n",
    "        return nums\n",
    "    else:\n",
    "        return []"
   ]
  },
  {
   "cell_type": "code",
   "execution_count": 44,
   "metadata": {},
   "outputs": [
    {
     "name": "stdout",
     "output_type": "stream",
     "text": [
      "[1]\n",
      "[3, 1]\n",
      "[5, 2, 3]\n",
      "[7, 5, 7, 16]\n",
      "[9, 7, 14, 39, 125]\n",
      "[11, 11, 25, 81, 311, 1296]\n",
      "[13, 14, 39, 150, 672, 3268, 16807]\n",
      "[15, 19, 58, 257, 1311, 7282, 42799, 262144]\n",
      "[17, 23, 83, 411, 2362, 14762, 97611, 672605, 4782969]\n"
     ]
    }
   ],
   "source": [
    "for i in range(1,10):\n",
    "    print(random_number(i))"
   ]
  },
  {
   "cell_type": "markdown",
   "metadata": {},
   "source": [
    "Cuadrados medios y registro de desplazamiento y vamos a finalizar con congruencia lineal\n",
    "\n",
    "Encontrarle una aplicación práctica, para entender donde los podemos aplicar\n",
    "\n",
    "Como trabaja random de numpy"
   ]
  },
  {
   "cell_type": "markdown",
   "metadata": {},
   "source": [
    "- Una secuancia de números aleatorios no tiene un patron de comportamiento.\n",
    "- Los numeros de la secuecia de pi puede considerarse aleatorio.\n",
    "- Solo es posible conseguirlo mediante un proceso verdaderamente aleatorio.\n",
    "- En cuestion de números pseudoaleatorio no contien patron de comportamiento o de regularidad desde un punto de vista estadistico, son generados desde un lagoritmo determinista que genera siempre los mimos numeros."
   ]
  },
  {
   "cell_type": "code",
   "execution_count": 45,
   "metadata": {},
   "outputs": [],
   "source": [
    "import numpy as np\n",
    "import seaborn as sns\n",
    "import matplotlib.pyplot as plt"
   ]
  },
  {
   "cell_type": "code",
   "execution_count": 46,
   "metadata": {},
   "outputs": [
    {
     "name": "stdout",
     "output_type": "stream",
     "text": [
      "[81 16 13 61 76 94 12 84 89 66]\n"
     ]
    }
   ],
   "source": [
    "nums = np.random.randint(0, 100, size=10)\n",
    "print(nums)"
   ]
  },
  {
   "cell_type": "code",
   "execution_count": 47,
   "metadata": {},
   "outputs": [
    {
     "data": {
      "image/png": "[encoded data removed]",
      "text/plain": [
       "<Figure size 432x288 with 1 Axes>"
      ]
     },
     "metadata": {
      "needs_background": "light"
     },
     "output_type": "display_data"
    }
   ],
   "source": [
    "_= sns.histplot(np.random.normal(0,1,100000), kde=True)\n",
    "plt.show()"
   ]
  },
  {
   "cell_type": "markdown",
   "metadata": {},
   "source": [
    "# Tarea\n",
    "\n",
    "### Método de los cuadrados medios\n",
    "\n",
    "Es un método propuesto en los años 40 por los matemáticos John Von Neumann y Nicholas Metropolis, siendo utilizado para la generación de números pseudoaleatorios. Esto para obtener usa sucesión de números que básicamente se obtienen a aprtir de recurrencia, los cuales son relevantes en los procesos de simulación debido a  que con estos números se hace posible comprobar el correcto funcionamiento de una prueba mediante la observación del comportamiento de las variables que se puedan encontrar a lo largo de la simulación.\n",
    "\n",
    "#### Aplicación del Método\n",
    "\n",
    "El método consiste en tomar un número al azar, X° de 2n cifras que al ser elevado al cuadrado resulta un número de hasta 4n cifras, de no ser así se deben agregar ceros a la izquierda de dicho resultado para que éste tenga exactamente 4n cifras.\n",
    "\n",
    "Se denomina X1 al número resultante de seleccionar las 2n cifras centrales del resultado anterior.\n",
    "\n",
    "Se genera el número pseudoaleatorio U1 ubicando un punto decimal delante de las 2n cifras de X1 y así sucesivamente para los demás números pseudoaleatorios.\n",
    "\n",
    "#### Inconvenientes\n",
    "\n",
    "- Tiene una fuerte tendencia a degenerar a cero rápidamente\n",
    "- Los números generados pueden repetrise cíclicamente después de una secuencia corta\n",
    "- La utilización de números primos puede generar ciclos más largos en la generación de números pseudoaleatorios.\n"
   ]
  },
  {
   "cell_type": "code",
   "execution_count": 48,
   "metadata": {},
   "outputs": [],
   "source": [
    "def cuadrados_medios(size: int, semilla) -> list[int,]:\n",
    "    \"\"\"Funcion que retorna numeros aleatorios del tamaño que se indica en la función, utilizando el algoritmo de cuadrados medios\n",
    "\n",
    "    Args:\n",
    "        size (int): Cantidad de numeros aleatorios a generar\n",
    "        semilla (int, optional): Semilla que se requiere para generar los números aleatorios, tiene que ser de más de 3 digitos. Defaults to 333.\n",
    "\n",
    "    Returns:\n",
    "        list[int,]: Lista con la cantidad de numeros pseudoaleatorios que se indican.\n",
    "    \"\"\"\n",
    "    assert len(str(semilla)) >= 3, \"El tamaño de la semilla es incorrecto\"\n",
    "\n",
    "    nums = list()\n",
    "    \n",
    "    n_digit = len(str(semilla))\n",
    "\n",
    "    for i in range(size):\n",
    "        \n",
    "        num = str(semilla**2)\n",
    "        digit = ((len(num) - n_digit) // 2)\n",
    "        n = num[digit: n_digit+digit]\n",
    "        \n",
    "        if len(n) %2 ==1:\n",
    "            n = '0' + n\n",
    "        \n",
    "        n = int(n)\n",
    "        nums.append(n)\n",
    "        semilla = n\n",
    "\n",
    "    return nums"
   ]
  },
  {
   "cell_type": "code",
   "execution_count": 49,
   "metadata": {},
   "outputs": [
    {
     "name": "stdout",
     "output_type": "stream",
     "text": [
      "127 10\n"
     ]
    },
    {
     "data": {
      "text/plain": [
       "[612, 745, 550, 25, 625, 906, 208, 326, 62, 384]"
      ]
     },
     "execution_count": 49,
     "metadata": {},
     "output_type": "execute_result"
    }
   ],
   "source": [
    "# semilla = int(input('Ingresa la semilla:'))\n",
    "# n = int(input('Ingrese la cantidad de numeros a generar'))\n",
    "semilla = 127\n",
    "n = 10\n",
    "print(semilla, n)\n",
    "cuadrados_medios(n, semilla)"
   ]
  },
  {
   "cell_type": "markdown",
   "metadata": {},
   "source": [
    "## El algoritmo de congruencia lineal\n",
    "\n",
    "Es un método para generar números pseudoaleatorios. Fue propuesto por D. H. Lehmer en 1955 y ha sido ampliamente utilizado. Este algoritmo genera una secuencia de números enteros utilizando la siguiente ecuación recursiva:\n",
    "\n",
    "$Xi+1 = (aXi + c) mod~m$\n",
    "\n",
    "Donde:\n",
    "- `Xi` es el número aleatorio actual.\n",
    "- `a` es la constante multiplicativa.\n",
    "- `c` es una constante aditiva.\n",
    "- `m` es el módulo.\n",
    "\n",
    "Todos estos valores deben ser números enteros. Para obtener números pseudoaleatorios en el intervalo (0, 1), se utiliza la siguiente ecuación:\n",
    "\n",
    "$Ui = \\frac{Xi}{m}$\n",
    "\n",
    "Con `i = 1, 2, 3, ..., n`.\n",
    "\n",
    "Para que el algoritmo sea capaz de lograr el máximo período de vida `n`, es preciso que los parámetros `X0`, `a`, y `m` cumplan con ciertas condiciones. Algunas sugerencias son:\n",
    "- `m` debe ser múltiplo de `2g`, donde `g` debe ser entero.\n",
    "- `a = 1+4k`, donde `k` debe ser entero.\n",
    "- `c` debe ser relativamente primo a `m`.\n",
    "- Enteros positivos\n",
    "\n",
    "\n",
    "Bajo estas condiciones se obtiene un período de vida máximo: $N=m=2g$.\n",
    "\n",
    "Es importante señalar que este algoritmo genera números pseudoaleatorios, lo que significa que la secuencia de números se repetirá eventualmente. Sin embargo, con una buena elección de las constantes `a`, `c` y `m`, la secuencia será lo suficientemente larga para la mayoría de las aplicaciones prácticas."
   ]
  },
  {
   "cell_type": "code",
   "execution_count": 50,
   "metadata": {},
   "outputs": [],
   "source": [
    "import time\n",
    "\n",
    "def congruenciaLineal(size : int, parameters= [1103515245, 12345, 32768], xn = int(time.time()), rango = False) -> list[int,]:\n",
    "    \"\"\"Función para generar numeros aleatorios usando el algoritmo de congruencia lineal. Este método genera una secuancia de números pseudoaletorios a partir de una semilla inicial, utilizando la fórmula:\n",
    "    xn+1 = (a * xn + c) mod m\n",
    "\n",
    "    Args:\n",
    "        size (int): Cantidad de números aleatorios a generar\n",
    "        parameters (list, optional): Argumentos que se pueden modificar para generar los numeros aleatorios. Defaults to [1103515245, 12345, 32768].\n",
    "        xn (_type_, optional): Semilla que se va a usar para generar los números aleatorios. Defaults to int(time.time()). Con el valor default se utiliza la hora del sistema\n",
    "\n",
    "    Returns:\n",
    "        list[int,]: Lista con la cantidad de números aleatorios generados.\n",
    "    \"\"\"\n",
    "    assert len(parameters) >= 3, 'Los parametros no son correctos'\n",
    "    \n",
    "    a, c, m = parameters\n",
    "    nums = [xn]\n",
    "\n",
    "    if rango:\n",
    "        for i in range(size):\n",
    "            xn1 = (a * nums[i] + c) % m\n",
    "            nums.append(xn1)\n",
    "            # xn = xn1\n",
    "    else:\n",
    "        for i in range(size):\n",
    "            xn1 = (a * xn + c) % m\n",
    "            u_i = xn1 / m       \n",
    "            nums.append(u_i)\n",
    "            xn = u_i\n",
    "        # del nums[0]\n",
    "    \n",
    "    return nums[1:]"
   ]
  },
  {
   "cell_type": "code",
   "execution_count": 51,
   "metadata": {},
   "outputs": [
    {
     "data": {
      "text/plain": [
       "[25013]"
      ]
     },
     "execution_count": 51,
     "metadata": {},
     "output_type": "execute_result"
    }
   ],
   "source": [
    "# parameters = [int(input('Ingresa el parametro')) for i in range(3)]\n",
    "congruenciaLineal(size=1, rango=True)"
   ]
  },
  {
   "cell_type": "markdown",
   "metadata": {},
   "source": [
    "## Aplicaciones para la generación de números aleatorios:\n",
    "\n",
    "1. **Aleatorio: generador de todas las cosas**: Esta es una excelente manera de obtener números y letras aleatorios para cualquier propósito, como juegos de dados, lanzamiento de monedas, rifas e incluso preguntas de sí/no.\n",
    "\n",
    "2. **Bastante aleatorio**: Pretty Random es una aplicación sencilla para generar números. Tiene todo lo que necesita para obtener números aleatorios, gracias a una interfaz fácil de usar y un hermoso diseño.\n",
    "\n",
    "3. **Aleatorizador**: Randomizer te ayuda a aleatorizar todo. Elija elementos predefinidos para aleatorizar, como números o letras, y comience a aleatorizar.\n",
    "\n",
    "4. **Random Generator**: Es una aplicación fácil que le brinda una lista de números aleatorios. Es ideal para contraseñas aleatorias, ruleta, números y más."
   ]
  },
  {
   "cell_type": "markdown",
   "metadata": {},
   "source": [
    "<div align ='right'><h3>18 de agosto del 2023</h3></div>\n",
    "\n",
    "## RANDU\n",
    "\n",
    "Fue un generador de números aleatorios apliamente utilizado en los 60's y 70's, se define como:\n",
    "\n",
    "$$X_{n+1} = (2^{16}+3)X_n~mod(2^{31})$$"
   ]
  },
  {
   "cell_type": "code",
   "execution_count": 52,
   "metadata": {},
   "outputs": [
    {
     "name": "stdout",
     "output_type": "stream",
     "text": [
      "[0.0003662277013063431, 1.1176894100344004e-08, 3.4110735284278433e-13, 1.0410246810858716e-17, 3.1771006329770637e-22, 9.696185513617646e-27, 2.9591764434100453e-31, 9.031103221916173e-36, 2.756200144352224e-40, 8.411640360052716e-45, 2.567146427731472e-49, 7.83466779287406e-54]\n",
      "[786468, 4718700, 21233988, 84935628, 318507876, 1146626604, 1865705092, 874591116, 1341102756, 175296492, 1866756036, 1032933196, 134213092, 98814380, 1532452100]\n"
     ]
    }
   ],
   "source": [
    "def Randu(n : int, x_n : int, normalizar = False)-> list[int,]:\n",
    "    \"\"\"Randu generador de núemros aleatorios utilizados en los 60's y 70's se define como:\n",
    "            Xn+1 = (2**16 + 3) Xn mod (2**31)\n",
    "\n",
    "    Args:\n",
    "        n (int): cantidad de números aleatorios a generar\n",
    "        x_n (int): Semilla que se va a usar para generar los números aleatorios\n",
    "        normalizar (bool, optional): Al poner el valor de True la función retorna valores aleatorios en un rango de 0 y 1, si no quiere este rango marque como False. Defaults to False.\n",
    "\n",
    "    Returns:\n",
    "        list[int,]: Lista con los numeros aleatorios generados\n",
    "    \"\"\"\n",
    "    \n",
    "    assert n>0, \"El numero ingresado no es valido\"\n",
    "    assert x_n > 0, 'El número ingresado no es valido'\n",
    "    \n",
    "    nums = list()\n",
    "    \n",
    "    if not normalizar:\n",
    "        for i in range(n):\n",
    "            x_n_i= ((2**16)+ 3) * x_n % (2**31)\n",
    "            nums.append(x_n_i)\n",
    "            x_n = x_n_i\n",
    "    else:\n",
    "        for i in range(n):\n",
    "            x_n_i= ((2**16)+ 3) * x_n % (2**31)\n",
    "            x_n_i /= (2**31)\n",
    "            nums.append(x_n_i)\n",
    "            x_n = x_n_i\n",
    "        \n",
    "        \n",
    "    return nums\n",
    "\n",
    "print(Randu(12, x_n=12, normalizar=True))\n",
    "print(Randu(15, x_n=12, normalizar=False))"
   ]
  },
  {
   "cell_type": "markdown",
   "metadata": {},
   "source": [
    "# Rand\n",
    "\n",
    "Por mucho años (antes de 1995) el generador de la función rand en Matlab fue el generador congruencial:\n",
    "\n",
    "$$X_{n+1} = (7^5)~X_n~mod(2^{31}-1)$$"
   ]
  },
  {
   "cell_type": "code",
   "execution_count": 53,
   "metadata": {},
   "outputs": [
    {
     "name": "stdout",
     "output_type": "stream",
     "text": [
      "[0.4768344003133636, 3.731882092449155e-06, 2.920708728814499e-11, 2.2858545010929847e-16, 1.78899413988738e-21, 1.400132874170715e-26, 1.0957956885520913e-31, 8.576101691495208e-37, 6.711973864402608e-42, 5.25303859224287e-47]\n",
      "[2655506, 1681416402, 828157541, 1002275380, 380584592, 1278936978, 929966423, 559688495, 706161605, 1463461913]\n"
     ]
    }
   ],
   "source": [
    "def rand(size: int, x_n: int, normalizar=False)-> list[int,]:\n",
    "    \"\"\"Rand Por muchos años (antes de 1995) el generador de la función rand en matlab fue el generador congruencial:\n",
    "    xn+1 = (7**5) * xn mod(2**31 -1)\n",
    "\n",
    "    Args:\n",
    "        size (int): _description_\n",
    "        x_n (int): _description_\n",
    "        normalizar (bool, optional): _description_. Defaults to False.\n",
    "\n",
    "    Returns:\n",
    "        list[int,]: _description_\n",
    "    \"\"\"\n",
    "    assert size > 0, \"El numero ingresado no es valido\"\n",
    "    assert x_n > 0, \"El número ingresado no es valido\"\n",
    "\n",
    "    nums = []\n",
    "\n",
    "    m = (2**31) - 1 \n",
    "\n",
    "    if not normalizar:\n",
    "        for i in range(size):\n",
    "            n = (7**5) * x_n % m\n",
    "            nums.append(n)\n",
    "            x_n = n\n",
    "    else:\n",
    "        for i in range(size):\n",
    "            n = ((7**5) * x_n) % m\n",
    "            n = n / m\n",
    "            nums.append(n)\n",
    "            x_n = n\n",
    "\n",
    "    return nums\n",
    "\n",
    "\n",
    "print(rand(size=10, x_n=278989754, normalizar=True))\n",
    "print(rand(size=10, x_n=158, normalizar=False))"
   ]
  },
  {
   "cell_type": "markdown",
   "metadata": {},
   "source": [
    "Con todos los algoritmos previamente vistos, cree un documento de texto donde se generen mil números aleatorios e indique cuantas veces se repite el número y en que posición"
   ]
  },
  {
   "cell_type": "code",
   "execution_count": 259,
   "metadata": {},
   "outputs": [],
   "source": [
    "import os\n",
    "import numpy as np\n",
    "import collections\n",
    "\n",
    "nu = dict()\n",
    "\n",
    "\n",
    "class Reencuento:\n",
    "    def __init__(self, size: int, semilla: int, parameters=[48271, 0, 2147483647]):\n",
    "        self.size = size\n",
    "        self.semilla = semilla\n",
    "        self.numeros = list()\n",
    "        self.parameters = parameters\n",
    "\n",
    "    def random_number_self(self):\n",
    "        \"\"\"Funcion creada de manera propia en la que\n",
    "\n",
    "        Returns:\n",
    "            _type_: _description_\n",
    "        \"\"\"\n",
    "        if self.size > 0:\n",
    "            nums = list()\n",
    "            for i in range(1, self.size + 1):\n",
    "                nums.append((((self.size**i) // i) + (self.size - i)) // i)\n",
    "            return nums\n",
    "        else:\n",
    "            return []\n",
    "\n",
    "    def minimos_cuadrados(self):\n",
    "        \"\"\"Funcion que retorna numeros aleatorios del tamaño que se indica en la función, utilizando el algoritmo de cuadrados medios\n",
    "\n",
    "        Args:\n",
    "            size (int): Cantidad de numeros aleatorios a generar\n",
    "            semilla (int, optional): Semilla que se requiere para generar los números aleatorios, tiene que ser de más de 3 digitos. Defaults to 333.\n",
    "\n",
    "        Returns:\n",
    "            list[int,]: Lista con la cantidad de numeros pseudoaleatorios que se indican.\n",
    "        \"\"\"\n",
    "        t = len(str(self.semilla))\n",
    "        assert t >= 3, \"El tamaño de la semilla es incorrecto\"\n",
    "        nums = [self.semilla]\n",
    "\n",
    "        for i in range(self.size):\n",
    "            num = str(nums[i] ** 2)\n",
    "            dif = (len(num) - t) // 2\n",
    "\n",
    "            n = num[dif : t + dif]\n",
    "\n",
    "            if len(n) % 2 == 1:\n",
    "                n = \"0\" + n\n",
    "            n = int(n)\n",
    "\n",
    "            nums.append(n)\n",
    "        return nums[1:]\n",
    "\n",
    "    def congruenciaLineal(\n",
    "        self, normalizar=False\n",
    "    ):\n",
    "        \"\"\"Función para generar numeros aleatorios usando el algoritmo de congruencia lineal. Este método genera una secuancia de números pseudoaletorios a partir de una semilla inicial, utilizando la fórmula:\n",
    "        xn+1 = (a * xn + c) mod m\n",
    "\n",
    "        Args:\n",
    "            size (int): Cantidad de números aleatorios a generar\n",
    "            parameters (list, optional): Argumentos que se pueden modificar para generar los numeros aleatorios. Defaults to [1103515245, 12345, 32768].\n",
    "            xn (_type_, optional): Semilla que se va a usar para generar los números aleatorios. Defaults to int(time.time()). Con el valor default se utiliza la hora del sistema\n",
    "\n",
    "        Returns:\n",
    "            list[int,]: Lista con la cantidad de números aleatorios generados.\n",
    "        \"\"\"\n",
    "        xn = self.semilla\n",
    "\n",
    "        a, c, m = self.parameters\n",
    "\n",
    "        nums = [xn]\n",
    "\n",
    "        if not normalizar:\n",
    "            for i in range(self.size):\n",
    "                xn1 = (a * nums[i] + c) % m\n",
    "                nums.append(xn1)\n",
    "        else:\n",
    "            for i in range(self.size):\n",
    "                xn1 = (a * nums[i] + c) % m\n",
    "                nums.append(xn1)\n",
    "\n",
    "        return nums[1:]\n",
    "\n",
    "    def Randu(self, normalizar=False):\n",
    "        \"\"\"Randu Generador de número aleatorios utiilzado en los 60's y 70's se define como:\n",
    "        Xn+1 = (2**16 + 3) Xn mod (2**31)\n",
    "\n",
    "        Args:\n",
    "            normalizar (bool, optional): Al activar esta funcion los valores que se van a devolver son en un rango de (0 a 1), si quiere valores fuera de ese rango deje el valor como esta. Defaults to False.\n",
    "\n",
    "        Returns:\n",
    "            list: Lista con los valores generados de forma aleatoria\n",
    "        \"\"\"\n",
    "        assert self.size > 0, \"El número ingresado no es valido\"\n",
    "        assert self.semilla > 0, \"El número ingresado no es valido\"\n",
    "\n",
    "        nums = [self.semilla]\n",
    "        m = 2**31\n",
    "\n",
    "        if not normalizar:\n",
    "            for i in range(self.size):\n",
    "                x_ni = ((2**16) + 3) * nums[i] % m\n",
    "                nums.append(x_ni)\n",
    "        else:\n",
    "            for i in range(self.size):\n",
    "                x_ni = ((2**16) + 3) * nums[i] % m\n",
    "                x_ni /= m\n",
    "                nums.append(x_ni)\n",
    "\n",
    "        return nums[1:]\n",
    "\n",
    "    def Rand(self, normalizar=False):\n",
    "        \"\"\"Rand Por muchos años (antes de 1995) el generador de la función rand en matlab fue el generador congruencial:\n",
    "        xn+1 = (7**5) * xn mod(2**31 -1)\n",
    "\n",
    "        Args:\n",
    "            size (int): _description_\n",
    "            x_n (int): _description_\n",
    "            normalizar (bool, optional): _description_. Defaults to False.\n",
    "\n",
    "        Returns:\n",
    "            list[int,]: _description_\n",
    "        \"\"\"\n",
    "        assert self.size > 0, \"El numero ingresado no es valido\"\n",
    "        assert self.semilla > 0, \"El número ingresado no es valido\"\n",
    "\n",
    "        nums = [self.semilla]\n",
    "\n",
    "        m = (2**31) - 1\n",
    "\n",
    "        if not normalizar:\n",
    "            for i in range(self.size):\n",
    "                n = (7**5) * nums[i] % m\n",
    "                nums.append(n)\n",
    "        else:\n",
    "            for i in range(self.size):\n",
    "                n = ((7**5) * nums[i]) % m\n",
    "                n = n / m\n",
    "                nums.append(n)\n",
    "\n",
    "        return nums[1:]\n",
    "\n",
    "    def guardar_numeros(self, nombre: str, numeros=list, ubi=\"./Numeros generados/\"):\n",
    "        \"\"\"Guardar Numeros\n",
    "\n",
    "        Args:\n",
    "            ubi (str, optional): Ubicación para guardar los números generados. Defaults to './Numeros generados/'.\n",
    "            nombre (str) : Nombre que se le va a dar al archivo generado\n",
    "        \"\"\"\n",
    "\n",
    "        # for i,j in numeros.items():\n",
    "        with open(file=ubi + nombre + '_' + str(self.parameters)+ \".txt\", mode=\"w\") as f:\n",
    "            for element in numeros:\n",
    "                f.write(str(element))\n",
    "                f.write(\"\\n\")\n",
    "\n",
    "    def generar_numeros(self, propio=False, normalizar=False):\n",
    "        mini_cua = self.minimos_cuadrados()\n",
    "\n",
    "        prop = []\n",
    "\n",
    "        if propio:\n",
    "            prop = self.random_number_self()\n",
    "\n",
    "        congruencia = self.congruenciaLineal(normalizar=normalizar)\n",
    "        randu = self.Randu(normalizar=normalizar)\n",
    "        rand = self.Rand(normalizar=normalizar)\n",
    "\n",
    "        numeros = {\n",
    "            \"Algoritmo_minimos_cuadrados\": mini_cua,\n",
    "            \"Algoritmo_propio\": prop,\n",
    "            \"Algoritmo_congruencia_lineal\": congruencia,\n",
    "            \"Algoritmo_randu\": randu,\n",
    "            \"Algoritmo_rand\": rand,\n",
    "        }\n",
    "\n",
    "        for i, j in numeros.items():\n",
    "            self.guardar_numeros(nombre=i, numeros=j)\n",
    "\n",
    "    def comprobar_numeros(self, ubi=\"./Numeros generados/\"):\n",
    "        \"\"\"Comprueba en que indice se encuentran los números y almacena los resultados en un archivo txt en la ubicación que se pasa\n",
    "\n",
    "        Args:\n",
    "            ubi (str, optional): Carpeta donde se va a guardar los resultados anteriormente generados, si no existen se generan automaticamente. Defaults to './Numeros generados/'.\n",
    "        \"\"\"\n",
    "        files = os.listdir(ubi)\n",
    "        # numeros = list()\n",
    "\n",
    "        # cheek if the files exist\n",
    "        if not bool(files):\n",
    "            self.generar_numeros()\n",
    "            files = os.listdir(ubi)\n",
    "\n",
    "        for file in files:\n",
    "            if file != 'resultados.txt':\n",
    "                with open(file=ubi + file, mode=\"r\") as f:\n",
    "                    for element in f:\n",
    "                        n = float(element)\n",
    "                        if n % 1 == 0.0:\n",
    "                            n = int(element)\n",
    "                            self.numeros.append(n)\n",
    "                        else:\n",
    "                            self.numeros.append(n)\n",
    "\n",
    "        nums = np.array(self.numeros)    \n",
    "        unique, count = np.unique(nums, return_counts=True)\n",
    "        res = dict(zip(unique, count))\n",
    "        \n",
    "        indices = dict()\n",
    "        \n",
    "        for i in range(unique.shape[0]):\n",
    "            aux = list()\n",
    "            for j in range(nums.shape[0]):\n",
    "                if nums[j] == unique[i]:\n",
    "                    aux.append(j)\n",
    "            indices[unique[i]] = aux\n",
    "        \n",
    "        for numero in unique:\n",
    "            nu[numero] = f'El número {numero} aparece un total de : {res[numero]} veces, en los indices: {indices[numero]}'\n",
    "            \n",
    "        with open(file=ubi+'resultados.txt', mode='w', encoding='utf-8') as file:\n",
    "            for i,j in nu.items():\n",
    "                file.write(j)\n",
    "                file.write('\\n')\n",
    "        \n",
    "        \n",
    "        print(\"Terminado\")\n",
    "        \n",
    "\n",
    "    def comprobar_numeros_dos(self, ubi=\"./Numeros generados/\"):\n",
    "        # Comprobar si los archivos ya existen\n",
    "        if not os.path.exists(ubi):\n",
    "            os.makedirs(ubi)\n",
    "            self.generar_numeros()\n",
    "\n",
    "        numeros_unicos = set()\n",
    "        indices = {}\n",
    "\n",
    "        # Leer los archivos y realizar el seguimiento de los índices\n",
    "        for file in os.listdir(ubi):\n",
    "            if not file.startswith('resultados_dos'): #or file != 'resultados.txt':\n",
    "                with open(os.path.join(ubi, file), \"r\") as f:\n",
    "                    for index, element in enumerate(f):\n",
    "                        n = float(element)\n",
    "                        if n.is_integer():\n",
    "                            n = int(n)\n",
    "                        else:\n",
    "                            n = round(n)  # Redondear números no enteros\n",
    "                        numeros_unicos.add(n)\n",
    "                        indices.setdefault(n, []).append(index)\n",
    "\n",
    "        # Calcular las frecuencias\n",
    "        frecuencias = {numero: indices[numero] for numero in numeros_unicos}\n",
    "        \n",
    "        # Escribir los resultados en un archivo\n",
    "        with open(os.path.join(ubi, 'resultados_dos_'+str(self.parameters)+'.txt'), 'w', encoding='utf-8') as file:\n",
    "            for numero, index_list in frecuencias.items():\n",
    "                file.write(f'El número {numero} aparece un total de {len(index_list)} veces, en los índices: {index_list}\\n')\n",
    "\n",
    "        print(\"Terminado\")\n",
    "\n"
   ]
  },
  {
   "cell_type": "code",
   "execution_count": 260,
   "metadata": {},
   "outputs": [
    {
     "name": "stdout",
     "output_type": "stream",
     "text": [
      "Terminado\n"
     ]
    }
   ],
   "source": [
    "nuevo = Reencuento(10000, 123456789)\n",
    "nuevo.generar_numeros()\n",
    "nuevo.comprobar_numeros_dos()\n"
   ]
  },
  {
   "cell_type": "code",
   "execution_count": 261,
   "metadata": {},
   "outputs": [
    {
     "name": "stdout",
     "output_type": "stream",
     "text": [
      "Terminado\n"
     ]
    }
   ],
   "source": [
    "# deferente parametos:\n",
    "nuev = Reencuento(size=100000, semilla=1223456789, parameters= [1103515245, 12345, 32768])\n",
    "nuev.generar_numeros()\n",
    "nuev.comprobar_numeros_dos()\n"
   ]
  }
 ],
 "metadata": {
  "kernelspec": {
   "display_name": "Python 3",
   "language": "python",
   "name": "python3"
  },
  "language_info": {
   "codemirror_mode": {
    "name": "ipython",
    "version": 3
   },
   "file_extension": ".py",
   "mimetype": "text/x-python",
   "name": "python",
   "nbconvert_exporter": "python",
   "pygments_lexer": "ipython3",
   "version": "3.10.11"
  },
  "orig_nbformat": 4
 },
 "nbformat": 4,
 "nbformat_minor": 2
}
