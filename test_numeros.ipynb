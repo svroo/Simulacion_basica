{
 "cells": [
  {
   "cell_type": "markdown",
   "metadata": {},
   "source": [
    "## Prueba de corrida\n",
    "\n",
    "**Paso 1**. Clasificar cada número aleatorio con respecto al anterior, de acuerdo con:\n",
    "$$Si~r_i \\leq r_{i-1}~~~~~~~r_i = -$$\n",
    "$$Si~r_i > r_{i-1}~~~~~~~r_i = +$$\n",
    "\n",
    "\n",
    "**Paso 2**. Calcular el número de corridas observadas h. Una corrida se forma por un conjunto de números aleatorios consecutivos del mismo signo.\n",
    "\n",
    "**Paso 3**. Calcular $E(h)$ y $Var(h)$ de acuerdo con:\n",
    "$$E(h) = \\frac{2n-1}{3}$$\n",
    "$$Var(h)=\\frac{16n-29}{90}$$\n",
    "donde n es el número de datos generados.\n",
    "\n",
    "**Paso 4**. Calcular el estadístico $z=\\frac{h-e(h)}{\\sqrt{Var(h)}}$, si el valor absoluto $|z|$ es menor que el valor crítico $Z_{\\alpha/2}$ se acepta la hipótesis de independencia.\n",
    "\n"
   ]
  },
  {
   "cell_type": "code",
   "execution_count": 5,
   "metadata": {},
   "outputs": [],
   "source": [
    "from scipy.stats import norm\n",
    "import numpy as np"
   ]
  },
  {
   "cell_type": "code",
   "execution_count": 31,
   "metadata": {},
   "outputs": [],
   "source": [
    "def pruebaCorrida(nums,alpha):\n",
    "    \"\"\"Test de Corrida de los números generados de forma pseudoaleatoria\n",
    "\n",
    "    Args:\n",
    "        nums (list): Lista de números generados pseudoaleatoriamente\n",
    "        alpha (float): Porcentaje de confianza\n",
    "    \"\"\"\n",
    "    # Definimos variables generales a usar en la función\n",
    "    n = len(nums)\n",
    "    signos = list()\n",
    "    h = 1\n",
    "    \n",
    "    # Obtenemos un arreglo de los signos\n",
    "    for i in range(1, n):\n",
    "        if nums[i] <= nums[i-1]:\n",
    "            signos.append('-')\n",
    "            \n",
    "        if nums[i] > nums[i-1]:\n",
    "            signos.append('+')\n",
    "    \n",
    "    # Obtenemos el valor de h\n",
    "    for i in range(1,len(signos)):\n",
    "        if signos[i] != signos[i-1]:\n",
    "            h += 1\n",
    "            \n",
    "    # Calculamos el valor esperado de h y la varianza de h\n",
    "    valor_e = ((2*n) -1) / 3\n",
    "    var_h = ((16 * n) - 29) / 90\n",
    "    \n",
    "    # Calculamos el estadistico z y otenemos el valor de 1- alpha / 2\n",
    "    v_z = np.abs((h - valor_e) / (var_h ** 1/2))\n",
    "    z = norm.ppf(1 - (alpha / 2))\n",
    "    \n",
    "    if v_z <= z:\n",
    "        return 'Se aprueba la hipotesis nula'\n",
    "    else:\n",
    "        return 'Se rechaza la hipotesis nula'"
   ]
  },
  {
   "cell_type": "code",
   "execution_count": 32,
   "metadata": {},
   "outputs": [
    {
     "data": {
      "text/plain": [
       "'Se aprueba la hipotesis nula'"
      ]
     },
     "execution_count": 32,
     "metadata": {},
     "output_type": "execute_result"
    }
   ],
   "source": [
    "\n",
    "nums  = [0.70484,0.48999,0.50502,0.39528,0.36782,0.90234,0.71890,0.61234,0.86322,0.94134,0.99872,0.27657,0.34565,0.02345,0.67347,0.10987,0.25678,0.25593,0.82345,0.12387,0.05389,0.82474,0.59289,0.36782,0.03991,0.10461,0.93716,0.16894,0.98953,0.73231]\n",
    "\n",
    "alpha = 0.05  # Define tu valor alpha aquí\n",
    "\n",
    "pruebaCorrida(nums, alpha)"
   ]
  },
  {
   "cell_type": "markdown",
   "metadata": {},
   "source": [
    "### Prueba de independencia\n",
    "\n",
    "**Paso 1.** Crear un histograma de dos dimensiones con m intervalos, clasificando cada pareja de números consecutivos $(ri, r_{i+1})$ dentro de las casillas de dicho histograma de frecuencias. El número total de pares ordenados en cada casilla formará la frecuencia observada: $FO_i$.\n",
    "\n",
    "**Paso 2.** Calcular la frecuencia esperada en cada casilla $FE_i$ deacuerdo con FEi = núm/m donde núm es el número total de\n",
    "parejas ordenadas.\n",
    "\n",
    "**Paso 3.** Calcular el valor del estadítico c.\n",
    "\n",
    "**Paso 4.** Si el valor de C es menor o igual al valor en tablas $x^2$ con $m-1$ grados de libertad y una probabilidad de rechazo, entonces se acepta la hipótesis de independencia."
   ]
  },
  {
   "cell_type": "code",
   "execution_count": 33,
   "metadata": {},
   "outputs": [],
   "source": [
    "nums = [0.72484,0.48999,0.50502,0.39528,0.36782,0.90234,0.71890,0.61234,0.86322,0.94134,0.99872,0.27657,0.34565,0.02345,0.67345,0.10987,0.25678,0.25593,0.82345,0.12387,0.05389,0.82474,0.59289,0.36782,0.03991,0.10461,0.93716,0.16894,0.98953,0.73231]"
   ]
  },
  {
   "cell_type": "code",
   "execution_count": 37,
   "metadata": {},
   "outputs": [],
   "source": [
    "import numpy as np\n",
    "from scipy.stats import chi2\n",
    "\n",
    "# Números de entrada\n",
    "nums = [0.72484,0.48999,0.50502,0.39528,0.36782,0.90234,0.71890,0.61234,0.86322,0.94134,0.99872,0.27657,0.34565,0.02345,0.67345,0.10987,0.25678,0.25593,0.82345,0.12387,0.05389,0.82474,0.59289,0.36782,0.03991,0.10461,0.93716,0.16894,0.98953,0.73231]\n",
    "\n",
    "def pruebaIndependencia(nums : list, m = 4, alpha=0.05):\n",
    "    # Número de intervalos\n",
    "    m = 4\n",
    "\n",
    "    # Paso 1: Crear un histograma 2D\n",
    "    histograma2d, xedges, yedges = np.histogram2d(nums[:-1], nums[1:], bins=m)\n",
    "    FOi = histograma2d.flatten()\n",
    "\n",
    "    # Paso 2: Calcular la frecuencia esperada en cada celda\n",
    "    num = len(nums) - 1  # número total de pares ordenados\n",
    "    FEi = np.full(m*m, num/(m*m))\n",
    "    print(FEi)\n",
    "\n",
    "    # Paso 3: Calcular el valor del estadístico C\n",
    "    C = np.sum((FOi - FEi)**2 / FEi)\n",
    "\n",
    "    # Paso 4: Comparar C con la distribución chi-cuadrado\n",
    "    p_value = 1 - chi2.cdf(C, df=m*m-1)\n",
    "\n",
    "    print(f\"C: {C}, p-value: {p_value}\")\n",
    "    if C <= chi2.ppf(1-alpha, df=m*m-1):\n",
    "        print(\"Acepta la hipótesis de independencia.\")\n",
    "    else:\n",
    "        print(\"Rechaza la hipótesis de independencia.\")"
   ]
  },
  {
   "cell_type": "markdown",
   "metadata": {},
   "source": [
    "## Prueba de distancias\n",
    "\n"
   ]
  },
  {
   "cell_type": "code",
   "execution_count": 46,
   "metadata": {},
   "outputs": [
    {
     "name": "stdout",
     "output_type": "stream",
     "text": [
      "D: 0.6896551724137931, p-value: 2.8423438581629285e-14\n",
      "Rechaza la hipótesis de independencia.\n"
     ]
    }
   ],
   "source": [
    "import numpy as np\n",
    "from scipy.stats import kstest\n",
    "\n",
    "def prueba_distancias(nums):\n",
    "    # Paso 1: Calcular las distancias entre números consecutivos\n",
    "    distancias = np.diff(nums)\n",
    "\n",
    "    # Paso 2: Calcular la frecuencia acumulativa relativa\n",
    "    frec_acum_relativa = np.cumsum(distancias) / np.sum(distancias)\n",
    "\n",
    "    # Paso 3: Realizar la prueba de Kolmogorov-Smirnov\n",
    "    D, p_value = kstest(frec_acum_relativa,'uniform')\n",
    "\n",
    "    print(f\"D: {D}, p-value: {p_value}\")\n",
    "    if p_value > 0.05:\n",
    "        print(\"Acepta la hipótesis de independencia.\")\n",
    "    else:\n",
    "        print(\"Rechaza la hipótesis de independencia.\")\n",
    "\n",
    "# Números de entrada\n",
    "nums = [0.72484,0.48999,0.50502,0.39528,0.36782,0.90234,0.71890,0.61234,0.86322,0.94134,0.99872,0.27657,0.34565,0.02345,0.67345,0.10987,0.25678,0.25593,0.82345,0.12387,0.05389,0.82474,0.59289,0.36782,0.03991,0.10461,0.93716,0.16894,0.98953,0.73231]\n",
    "\n",
    "# Llamar a la función\n",
    "prueba_distancias(nums)\n"
   ]
  },
  {
   "cell_type": "code",
   "execution_count": 47,
   "metadata": {},
   "outputs": [
    {
     "name": "stdout",
     "output_type": "stream",
     "text": [
      "X^2: 0.10344827586206898, p-value: 0.9914204307377128\n",
      "Acepta la hipótesis de independencia.\n"
     ]
    }
   ],
   "source": [
    "import numpy as np\n",
    "from scipy.stats import chi2\n",
    "\n",
    "def prueba_series(nums):\n",
    "    # Paso 1: Crear pares de números consecutivos\n",
    "    pares = list(zip(nums[:-1], nums[1:]))\n",
    "\n",
    "    # Paso 2: Clasificar los pares en cuatro categorías\n",
    "    categorias = [0]*4\n",
    "    for x, y in pares:\n",
    "        if x < 0.5 and y < 0.5:\n",
    "            categorias[0] += 1\n",
    "        elif x >= 0.5 and y < 0.5:\n",
    "            categorias[1] += 1\n",
    "        elif x < 0.5 and y >= 0.5:\n",
    "            categorias[2] += 1\n",
    "        else:\n",
    "            categorias[3] += 1\n",
    "\n",
    "    # Paso 3: Calcular el valor del estadístico X^2\n",
    "    n = len(nums) - 1\n",
    "    X2 = sum((obs - n/4)**2/(n/4) for obs in categorias)\n",
    "\n",
    "    # Paso 4: Comparar X^2 con la distribución chi-cuadrado\n",
    "    p_value = 1 - chi2.cdf(X2, df=3)\n",
    "\n",
    "    print(f\"X^2: {X2}, p-value: {p_value}\")\n",
    "    if p_value > 0.05:\n",
    "        print(\"Acepta la hipótesis de independencia.\")\n",
    "    else:\n",
    "        print(\"Rechaza la hipótesis de independencia.\")\n",
    "\n",
    "# Números de entrada\n",
    "nums = [0.72484,0.48999,0.50502,0.39528,0.36782,0.90234,0.71890,0.61234,0.86322,0.94134,0.99872,0.27657,0.34565,0.02345,0.67345,0.10987,0.25678,0.25593,0.82345,0.12387,0.05389,0.82474,0.59289,0.36782,0.03991,0.10461,0.93716,0.16894,0.98953,0.73231]\n",
    "\n",
    "# Llamar a la función\n",
    "prueba_series(nums)\n"
   ]
  }
 ],
 "metadata": {
  "kernelspec": {
   "display_name": "base",
   "language": "python",
   "name": "python3"
  },
  "language_info": {
   "codemirror_mode": {
    "name": "ipython",
    "version": 3
   },
   "file_extension": ".py",
   "mimetype": "text/x-python",
   "name": "python",
   "nbconvert_exporter": "python",
   "pygments_lexer": "ipython3",
   "version": "3.10.13"
  }
 },
 "nbformat": 4,
 "nbformat_minor": 2
}
